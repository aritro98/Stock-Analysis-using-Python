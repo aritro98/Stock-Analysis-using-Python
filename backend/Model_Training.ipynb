{
 "cells": [
  {
   "cell_type": "code",
   "execution_count": 1,
   "id": "cc0a95d8-b830-48b9-9290-456930de3ccb",
   "metadata": {},
   "outputs": [],
   "source": [
    "# Importing required libraries for machine learning\n",
    "import numpy as np\n",
    "import pandas as pd\n",
    "from sklearn.model_selection import train_test_split\n",
    "from sklearn.linear_model import LinearRegression\n",
    "from sklearn.ensemble import RandomForestClassifier\n",
    "from sklearn.preprocessing import StandardScaler"
   ]
  },
  {
   "cell_type": "code",
   "execution_count": 2,
   "id": "72e6c595-1f61-4dad-a90c-7c09cdd7ea05",
   "metadata": {},
   "outputs": [],
   "source": [
    "# Load the dataset\n",
    "def load_dataset(file_path):\n",
    "    data = pd.read_csv(file_path)\n",
    "    data['Date'] = pd.to_datetime(data['Date'], utc=True)\n",
    "    data['Timestamp'] = data['Date'].map(pd.Timestamp.timestamp)\n",
    "    return data"
   ]
  },
  {
   "cell_type": "code",
   "execution_count": 3,
   "id": "5389ee4b-314d-4df9-b4ec-241f7a3a1d0a",
   "metadata": {},
   "outputs": [],
   "source": [
    "# Prepare the data for regression (price prediction)\n",
    "def prepare_regression_data(data):\n",
    "    X = data[['Timestamp']].values\n",
    "    y = data['Close'].values\n",
    "    return train_test_split(X, y, test_size=0.2, random_state=42)"
   ]
  },
  {
   "cell_type": "code",
   "execution_count": 4,
   "id": "4bc4e42d-32ca-48f9-815e-9768346856a9",
   "metadata": {},
   "outputs": [],
   "source": [
    "# Train regression model\n",
    "def train_regression_model(data):\n",
    "    X_train, X_test, y_train, y_test = prepare_regression_data(data)\n",
    "    model = LinearRegression()\n",
    "    model.fit(X_train, y_train)\n",
    "    return model"
   ]
  },
  {
   "cell_type": "code",
   "execution_count": 5,
   "id": "795e3c61-c92c-423f-a43b-19e4a50a39fb",
   "metadata": {},
   "outputs": [],
   "source": [
    "# Prepare data for classification (Buy/Sell/Hold)\n",
    "def prepare_classification_data(data):\n",
    "    data['Target'] = np.where(data['Close'].pct_change() > 0.02, 1,  # Buy\n",
    "                              np.where(data['Close'].pct_change() < -0.02, -1, 0))  # Sell / Hold\n",
    "    data.dropna(inplace=True)\n",
    "    features = data[['Open', 'High', 'Low', 'Volume']].values\n",
    "    labels = data['Target'].values\n",
    "    scaler = StandardScaler()\n",
    "    features = scaler.fit_transform(features)\n",
    "    return train_test_split(features, labels, test_size=0.2, random_state=42)"
   ]
  },
  {
   "cell_type": "code",
   "execution_count": 6,
   "id": "366b2fda-8b47-4363-b130-a2a866b31225",
   "metadata": {},
   "outputs": [],
   "source": [
    "# Train classification model\n",
    "def train_classification_model(data):\n",
    "    X_train, X_test, y_train, y_test = prepare_classification_data(data)\n",
    "    clf = RandomForestClassifier(n_estimators=100, random_state=42)\n",
    "    clf.fit(X_train, y_train)\n",
    "    return clf"
   ]
  },
  {
   "cell_type": "code",
   "execution_count": 7,
   "id": "0524425f-a8b1-4520-bca2-b58162a56e49",
   "metadata": {},
   "outputs": [],
   "source": [
    "# Predict future price and recommendation\n",
    "def predict_future(data, ticker, regression_model, classification_model):\n",
    "    stock_data = data[data['Ticker'].str.upper() == ticker.upper()]\n",
    "    if stock_data.empty:\n",
    "        return {\"error\": \"Stock not found\"}\n",
    "\n",
    "    # Get the latest stock data\n",
    "    latest_stock = stock_data.iloc[-1:]\n",
    "    future_price = regression_model.predict([[latest_stock['Timestamp'].values[0]]])[0]\n",
    "    decision = classification_model.predict(latest_stock[['Open', 'High', 'Low', 'Volume']].values)[0]\n",
    "\n",
    "    # Map decision to Buy/Sell/Hold\n",
    "    decision_map = {-1: \"Sell\", 0: \"Hold\", 1: \"Buy\"}\n",
    "    recommendation = decision_map.get(decision, \"Hold\")\n",
    "\n",
    "    return {\n",
    "        \"future_price\": round(future_price, 2),\n",
    "        \"recommendation\": recommendation\n",
    "    }"
   ]
  },
  {
   "cell_type": "code",
   "execution_count": 8,
   "id": "91b6692a-abdd-4327-8565-74bdff312c3d",
   "metadata": {},
   "outputs": [
    {
     "name": "stdin",
     "output_type": "stream",
     "text": [
      "Enter the stock ticker symbol:  NFLX\n"
     ]
    },
    {
     "name": "stdout",
     "output_type": "stream",
     "text": [
      "Future Price: $227.99\n",
      "Recommendation: Sell\n"
     ]
    }
   ],
   "source": [
    "# Load dataset\n",
    "file_path = \"stock_data_5_years.csv\"\n",
    "data = load_dataset(file_path)\n",
    "\n",
    "# Train models\n",
    "regression_model = train_regression_model(data)\n",
    "classification_model = train_classification_model(data)\n",
    "\n",
    "# Example prediction\n",
    "ticker = input(\"Enter the stock ticker symbol: \").strip()\n",
    "result = predict_future(data, ticker, regression_model, classification_model)\n",
    "\n",
    "if \"error\" in result:\n",
    "    print(result[\"error\"])\n",
    "else:\n",
    "    print(f\"Future Price: ${result['future_price']}\")\n",
    "    print(f\"Recommendation: {result['recommendation']}\")"
   ]
  }
 ],
 "metadata": {
  "kernelspec": {
   "display_name": "Python 3 (ipykernel)",
   "language": "python",
   "name": "python3"
  },
  "language_info": {
   "codemirror_mode": {
    "name": "ipython",
    "version": 3
   },
   "file_extension": ".py",
   "mimetype": "text/x-python",
   "name": "python",
   "nbconvert_exporter": "python",
   "pygments_lexer": "ipython3",
   "version": "3.12.3"
  }
 },
 "nbformat": 4,
 "nbformat_minor": 5
}
